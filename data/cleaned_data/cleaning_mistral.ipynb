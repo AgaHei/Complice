{
 "cells": [
  {
   "cell_type": "code",
   "execution_count": 1,
   "id": "35b2c49c",
   "metadata": {},
   "outputs": [
    {
     "name": "stdout",
     "output_type": "stream",
     "text": [
      "Collecting PyPDF2\n",
      "  Downloading pypdf2-3.0.1-py3-none-any.whl.metadata (6.8 kB)\n",
      "Downloading pypdf2-3.0.1-py3-none-any.whl (232 kB)\n",
      "Installing collected packages: PyPDF2\n",
      "Successfully installed PyPDF2-3.0.1\n",
      "Note: you may need to restart the kernel to use updated packages.\n"
     ]
    },
    {
     "name": "stderr",
     "output_type": "stream",
     "text": [
      "\n",
      "[notice] A new release of pip is available: 24.2 -> 25.2\n",
      "[notice] To update, run: python.exe -m pip install --upgrade pip\n"
     ]
    }
   ],
   "source": [
    "pip install PyPDF2\n"
   ]
  },
  {
   "cell_type": "code",
   "execution_count": 5,
   "id": "eacc65cc",
   "metadata": {},
   "outputs": [
    {
     "name": "stdout",
     "output_type": "stream",
     "text": [
      "Le texte a été extrait et sauvegardé dans texte_brut_autisme.txt\n"
     ]
    }
   ],
   "source": [
    "from PyPDF2 import PdfReader\n",
    "\n",
    "def extraire_texte_pdf(chemin_pdf, chemin_sortie):\n",
    "    # Ouvrir le fichier PDF\n",
    "    with open(chemin_pdf, 'rb') as fichier_pdf:\n",
    "        lecteur_pdf = PdfReader(fichier_pdf)\n",
    "\n",
    "        # Extraire le texte de chaque page\n",
    "        texte_brut = \"\"\n",
    "        for page in lecteur_pdf.pages:\n",
    "            texte_brut += page.extract_text() + \"\\n\\n\"\n",
    "\n",
    "    # Sauvegarder le texte brut dans un fichier\n",
    "    with open(chemin_sortie, 'w', encoding='utf-8') as fichier_sortie:\n",
    "        fichier_sortie.write(texte_brut)\n",
    "\n",
    "    print(f\"Le texte a été extrait et sauvegardé dans {chemin_sortie}\")\n",
    "\n",
    "# Exemple d'utilisation\n",
    "chemin_pdf = \"Autism_explained_author.pdf\"\n",
    "chemin_sortie = \"texte_brut_autisme.txt\"\n",
    "extraire_texte_pdf(chemin_pdf, chemin_sortie)"
   ]
  },
  {
   "cell_type": "code",
   "execution_count": null,
   "id": "1541a401",
   "metadata": {},
   "outputs": [],
   "source": []
  }
 ],
 "metadata": {
  "kernelspec": {
   "display_name": "Python 3",
   "language": "python",
   "name": "python3"
  },
  "language_info": {
   "codemirror_mode": {
    "name": "ipython",
    "version": 3
   },
   "file_extension": ".py",
   "mimetype": "text/x-python",
   "name": "python",
   "nbconvert_exporter": "python",
   "pygments_lexer": "ipython3",
   "version": "3.12.5"
  }
 },
 "nbformat": 4,
 "nbformat_minor": 5
}
