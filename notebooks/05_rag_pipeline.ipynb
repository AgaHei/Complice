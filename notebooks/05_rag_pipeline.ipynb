{
 "cells": [
  {
   "cell_type": "markdown",
   "id": "fefaabd1",
   "metadata": {},
   "source": [
    "# Création du pipeline RAG"
   ]
  },
  {
   "cell_type": "code",
   "execution_count": 1,
   "id": "607ca456",
   "metadata": {},
   "outputs": [
    {
     "name": "stderr",
     "output_type": "stream",
     "text": [
      "c:\\Users\\aheij\\Desktop\\Jedha\\Data Full Stack\\Projects for Submission\\06 Final Project bloc 6\\projet-culture-g\\venv\\Lib\\site-packages\\tqdm\\auto.py:21: TqdmWarning: IProgress not found. Please update jupyter and ipywidgets. See https://ipywidgets.readthedocs.io/en/stable/user_install.html\n",
      "  from .autonotebook import tqdm as notebook_tqdm\n"
     ]
    }
   ],
   "source": [
    "# Imports et chargement de la clé API\n",
    "\n",
    "import os\n",
    "from dotenv import load_dotenv\n",
    "from langchain.chat_models import ChatOpenAI\n",
    "from langchain.vectorstores import FAISS\n",
    "from langchain.embeddings import OpenAIEmbeddings\n",
    "from langchain.schema import Document\n",
    "import pandas as pd\n",
    "import numpy as np\n",
    "import faiss\n",
    "\n",
    "# Charger la clé API\n",
    "load_dotenv()\n",
    "openai_api_key = os.getenv(\"OPENAI_API_KEY\")\n"
   ]
  },
  {
   "cell_type": "code",
   "execution_count": 2,
   "id": "e37aeb3a",
   "metadata": {},
   "outputs": [],
   "source": [
    "# Charger les vecteurs et les métadonnées\n",
    "\n",
    "embeddings = np.load(\"../data/embeddings/chunks_embeddings.npy\")\n",
    "df_meta = pd.read_csv(\"../data/embeddings/chunks_metadata.csv\")\n",
    "\n",
    "# Créer les documents LangChain\n",
    "documents = [\n",
    "    Document(\n",
    "        page_content=row[\"text\"],\n",
    "        metadata={\n",
    "            \"chunk_id\": row[\"chunk_id\"],\n",
    "            \"source\": row[\"source\"],\n",
    "            \"page\": row[\"page\"],\n",
    "            \"theme\": row[\"theme\"],\n",
    "            \"niveau\": row[\"niveau\"],\n",
    "            \"type\": row[\"type\"]\n",
    "        }\n",
    "    )\n",
    "    for _, row in df_meta.iterrows()\n",
    "]\n"
   ]
  },
  {
   "cell_type": "code",
   "execution_count": 3,
   "id": "33d3eb75",
   "metadata": {},
   "outputs": [
    {
     "name": "stderr",
     "output_type": "stream",
     "text": [
      "C:\\Users\\aheij\\AppData\\Local\\Temp\\ipykernel_7744\\2092963465.py:12: LangChainDeprecationWarning: The class `OpenAIEmbeddings` was deprecated in LangChain 0.0.9 and will be removed in 1.0. An updated version of the class exists in the :class:`~langchain-openai package and should be used instead. To use it run `pip install -U :class:`~langchain-openai` and import as `from :class:`~langchain_openai import OpenAIEmbeddings``.\n",
      "  OpenAIEmbeddings(openai_api_key=openai_api_key),\n"
     ]
    }
   ],
   "source": [
    "from langchain.vectorstores.faiss import FAISS\n",
    "from langchain.embeddings import HuggingFaceEmbeddings\n",
    "\n",
    "# Utiliser les embeddings déjà calculés\n",
    "faiss_index = faiss.read_index(\"../data/embeddings/faiss_index.idx\")\n",
    "\n",
    "# Créer le store LangChain\n",
    "folder_path = \"../data/embeddings/faiss_store\"\n",
    "\n",
    "vectorstore = FAISS.load_local(\n",
    "    folder_path,\n",
    "    OpenAIEmbeddings(openai_api_key=openai_api_key),\n",
    "    allow_dangerous_deserialization=True\n",
    ")\n"
   ]
  },
  {
   "cell_type": "code",
   "execution_count": 4,
   "id": "a7ec2f20",
   "metadata": {},
   "outputs": [
    {
     "name": "stderr",
     "output_type": "stream",
     "text": [
      "C:\\Users\\aheij\\AppData\\Local\\Temp\\ipykernel_7744\\3576733337.py:3: LangChainDeprecationWarning: The class `ChatOpenAI` was deprecated in LangChain 0.0.10 and will be removed in 1.0. An updated version of the class exists in the :class:`~langchain-openai package and should be used instead. To use it run `pip install -U :class:`~langchain-openai` and import as `from :class:`~langchain_openai import ChatOpenAI``.\n",
      "  llm = ChatOpenAI(\n"
     ]
    }
   ],
   "source": [
    "# Initialiser le modèle de langage performant en terme de coût et langue française\n",
    "\n",
    "llm = ChatOpenAI(\n",
    "    openai_api_key=openai_api_key,\n",
    "    model_name=\"gpt-4o\",  # ou \"gpt-3.5-turbo\" pour une option plus économique\n",
    "    temperature=0.7\n",
    ")\n"
   ]
  },
  {
   "cell_type": "code",
   "execution_count": 5,
   "id": "21f5037b",
   "metadata": {},
   "outputs": [],
   "source": [
    "# Fonction pour construire le prompt avec le contexte et la question\n",
    "\n",
    "def build_prompt(context, question):\n",
    "    return f\"\"\"\n",
    "Tu es *Complice*, un assistant bienveillant qui aide les adolescents autistes à mieux comprendre les émotions, les relations sociales et les situations du quotidien.\n",
    "\n",
    "Voici des extraits de documents pertinents :\n",
    "{context}\n",
    "\n",
    "Question : {question}\n",
    "\n",
    "Réponds en français, avec clarté, douceur et concision. Utilise un ton rassurant, inclusif et jamais culpabilisant. Si la réponse est incertaine, propose des pistes ou invite à en discuter avec un adulte de confiance.\n",
    "\"\"\"\n"
   ]
  },
  {
   "cell_type": "code",
   "execution_count": 6,
   "id": "fa2aae69",
   "metadata": {},
   "outputs": [],
   "source": [
    "# Fonction pour effectuer une requête RAG\n",
    "\n",
    "def rag_query(question):\n",
    "    docs = vectorstore.similarity_search(question, k=5)\n",
    "    context = \"\\n\\n\".join([doc.page_content for doc in docs])\n",
    "    prompt = build_prompt(context, question)\n",
    "    response = llm.invoke(prompt)\n",
    "    return response.content\n",
    "\n",
    "\n"
   ]
  },
  {
   "cell_type": "code",
   "execution_count": 7,
   "id": "4b37c0ff",
   "metadata": {},
   "outputs": [
    {
     "name": "stdout",
     "output_type": "stream",
     "text": [
      "Certaines personnes évitent le contact visuel pour différentes raisons. Pour certaines personnes autistes, regarder dans les yeux peut être difficile ou inconfortable en raison du grand nombre de stimuli à traiter en même temps. Cela peut rendre la communication plus compliquée et parfois stressante.\n",
      "\n",
      "Il est important de se rappeler que ne pas regarder quelqu'un dans les yeux ne signifie pas qu'on est malpoli ou qu'on ne s'intéresse pas à la conversation. Chacun a sa propre manière de se sentir à l'aise et de communiquer. Parfois, regarder ailleurs peut même aider à mieux se concentrer sur ce qui est dit.\n",
      "\n",
      "Si tu as des questions ou si tu te sens concerné, n'hésite pas à en parler à un adulte de confiance, comme un parent, un enseignant, ou un professionnel de santé. Ils peuvent t'aider à mieux comprendre tes propres expériences et te donner des conseils adaptés.\n"
     ]
    }
   ],
   "source": [
    "# Exemple d'utilisation\n",
    "\n",
    "question = \"Pourquoi certaines personnes évitent le contact visuel ?\"\n",
    "print(rag_query(question))\n"
   ]
  },
  {
   "cell_type": "code",
   "execution_count": 8,
   "id": "88d3e9db",
   "metadata": {},
   "outputs": [],
   "source": [
    "# Fonction pour effectuer une requête RAG - avec affichage des chunks sélectionnés\n",
    "\n",
    "def rag_query_verbose(question):\n",
    "    docs = vectorstore.similarity_search(question, k=5)\n",
    "\n",
    "    print(\"🔎 Chunks sélectionnés :\\n\")\n",
    "    for i, doc in enumerate(docs, 1):\n",
    "        print(f\"Chunk {i} — Source : {doc.metadata.get('source', 'inconnu')}, Page : {doc.metadata.get('page', 'N/A')}\")\n",
    "        print(doc.page_content[:300] + \"...\\n---\\n\")\n",
    "\n",
    "    context = \"\\n\\n\".join([doc.page_content for doc in docs])\n",
    "    prompt = build_prompt(context, question)\n",
    "    response = llm.invoke(prompt)\n",
    "    print(\"🧠 Réponse générée :\\n\")\n",
    "    return response.content\n"
   ]
  },
  {
   "cell_type": "code",
   "execution_count": 9,
   "id": "db19dbae",
   "metadata": {},
   "outputs": [
    {
     "name": "stdout",
     "output_type": "stream",
     "text": [
      "🔎 Chunks sélectionnés :\n",
      "\n",
      "Chunk 1 — Source : 100 idees pour enseigner les ha - Mehdi Liratni, Page : 49\n",
      "IDÉE 14 REGARDE-MOI ! L’IMPORTANCE DU CONTACT VISUEL Un des premiers contacts sociaux « à distance » que l’enfant développe avec son entourage est le contact oculaire. Voyez comme le bébé, tout jeune et malgré une pauvre vision néo-natale, peut intuitivement plonger son regard dans celui de sa maman...\n",
      "---\n",
      "\n",
      "Chunk 2 — Source : 683956044-Le-Syndrome-dAsperger-Guide-Complet, Page : 356\n",
      "(Willey 1999 p. 22) Par e-mail, Carolyn m’a expliqué que : Dans le cas des néons, je ne suis pas juste confrontée aux éclats de lumière, mais aussi aux clignotements. Ils créent des « ombres » dans ma vision (qui étaient très effrayantes quand j’étais jeune) et une lon- gue exposition pouvait me ren...\n",
      "---\n",
      "\n",
      "Chunk 3 — Source : 683956044-Le-Syndrome-dAsperger-Guide-Complet, Page : 112\n",
      "97 Compréhension sociale et amitié sions faciales, je recommande d’expliquer pourquoi la personne évite le contact visuel : par exemple, « J’ai besoin de regarder ailleurs pour me concentrer et bien répondre à votre question. Je ne suis pas malpoli, malhonnête, et ne manque pas de respect ». Lorsque...\n",
      "---\n",
      "\n",
      "Chunk 4 — Source : 683956044-Le-Syndrome-dAsperger-Guide-Complet, Page : 143\n",
      "Chris savait que, tandis que j’insistais pour continuer la conversation sur l’astronomie, tout comme Chris, ses parents, qui étaient présents et le regardaient, n’approuveraient pas le sujet de la conversation. Il était confus et s’est replié sur lui en fermant les yeux, mais il continuait à parler ...\n",
      "---\n",
      "\n",
      "Chunk 5 — Source : 683956044-Le-Syndrome-dAsperger-Guide-Complet, Page : 144\n",
      "129 Théorie de l’Esprit Ces techniques ingénieuses déterminent où une personne pose son re- gard dans le cadre d’une interaction ﬁ lmée entre des acteurs. Dans l’une des scènes, où les personnes du groupe témoin posaient leur regard sur l’expression de surprise et d’horreur des yeux grands ouverts d...\n",
      "---\n",
      "\n",
      "🧠 Réponse générée :\n",
      "\n",
      "Certaines personnes évitent le contact visuel pour plusieurs raisons, et c'est tout à fait normal. Pour les personnes autistes, le contact visuel peut être difficile parce qu'il y a beaucoup d'informations à traiter en même temps. Regarder dans les yeux de quelqu'un peut être accablant et les rendre moins capables de se concentrer sur la conversation. Parfois, cela peut même être inconfortable ou stressant.\n",
      "\n",
      "Il est important de se rappeler que ne pas regarder dans les yeux ne signifie pas que quelqu'un n'écoute pas ou n'est pas intéressé. Chacun communique et se connecte différemment. Si tu te sens concerné, tu pourrais en parler avec un adulte de confiance qui pourra t'aider à mieux comprendre et à trouver des solutions qui te conviennent. N'oublie pas que chacun a sa façon unique de voir le monde, et c'est ce qui fait notre richesse.\n"
     ]
    }
   ],
   "source": [
    "# Exemple d'utilisation\n",
    "\n",
    "question = \"Pourquoi certaines personnes évitent le contact visuel ?\"\n",
    "print(rag_query_verbose(question))\n"
   ]
  },
  {
   "cell_type": "code",
   "execution_count": 10,
   "id": "79b6b9cb",
   "metadata": {},
   "outputs": [
    {
     "name": "stdout",
     "output_type": "stream",
     "text": [
      "\n",
      "🟦 Question 1 : Comment reconnaître la colère chez quelqu’un ?\n",
      "\n",
      "🔎 Chunks sélectionnés :\n",
      "  Chunk 1 — Source : Comprendre_lautisme_pour_les_nuls, Page : 185\n",
      "  suivante vous donne d’autres astuces pour surmonter la période de colère. » Sécurité d’abord. Une personne en phase de colère ne se contrôle pas et doit rester en sécurité. Essayez d’enlever les objet...\n",
      "\n",
      "  Chunk 2 — Source : Comprendre_lautisme_pour_les_nuls, Page : 179\n",
      "  Gérer les émotions suscitées par le syndrome d’Asperger Les personnes avec le syndrome d’Asperger ressentent les émotions au même titre que les autres, mais avec deux différences majeures : » Elles pe...\n",
      "\n",
      "  Chunk 3 — Source : 683956044-Le-Syndrome-dAsperger-Guide-Complet, Page : 183\n",
      "  168 Le guide complet du Syndrome d’Asperger l’aptitude à envisager les solutions de nature à réduire le sentiment de colère. Les sarcasmes rendront la personne Asperger plus confuse ; et l’appel aux é...\n",
      "\n",
      "  Chunk 4 — Source : 683956044-Le-Syndrome-dAsperger-Guide-Complet, Page : 178\n",
      "  163 Comprendre et exprimer les émotions 5 La colère Nous ne savons pas quelle est la prévalence des problèmes de gestion de la colère chez les enfants et adultes Asperger, mais nous savons que lorsque...\n",
      "\n",
      "  Chunk 5 — Source : 683956044-Le-Syndrome-dAsperger-Guide-Complet, Page : 178\n",
      "  Il y a souvent une réaction physique instantanée et irréﬂ échie. Lorsque la colère est intense, la personne Asperger peut être dans une « rage folle » et être incapable de voir les signaux indiquant q...\n",
      "\n",
      "🧠 Réponse générée :\n",
      "Reconnaître la colère chez quelqu'un, en particulier chez une personne avec le syndrome d'Asperger, peut parfois être un défi, mais il y a des signes qui peuvent aider. Voici quelques pistes pour identifier la colère :\n",
      "\n",
      "1. **Changements physiques** : La personne peut montrer des signes physiques tels que des tremblements, des poings serrés, ou un visage rouge. Il est aussi possible d'observer une respiration rapide ou des mouvements brusques.\n",
      "\n",
      "2. **Comportement verbal** : Des cris, des mots durs ou même le silence peuvent être des indicateurs de colère. Parfois, la personne peut exprimer sa colère de manière indirecte, par exemple en utilisant un ton sarcastique ou en murmurant.\n",
      "\n",
      "3. **Actions impulsives** : La colère peut se manifester par des actions soudaines comme frapper un objet, taper du pied ou claquer une porte.\n",
      "\n",
      "4. **Indicateurs émotionnels** : Chez certaines personnes, la colère peut être exprimée par un retrait social, un besoin de solitude ou des comportements qui semblent aller à l'encontre des attentes habituelles.\n",
      "\n",
      "Si tu n'es pas sûr de savoir si quelqu'un est en colère, il peut être utile d'observer ces signes et, si tu te sens à l'aise, d'en parler avec un adulte de confiance. N'oublie pas que la colère n'est pas dirigée contre toi personnellement, et qu'il est toujours important de veiller à la sécurité de chacun. Si tu as des doutes ou te sens dépassé, n'hésite pas à demander de l'aide.\n",
      "\n",
      "================================================================================\n",
      "\n",
      "\n",
      "🟦 Question 2 : Que faire si je me sens exclu dans un groupe ?\n",
      "\n",
      "🔎 Chunks sélectionnés :\n",
      "  Chunk 1 — Source : Etre autiste et ado_ Strategies - Inconnu(e), Page : 201\n",
      "  Il peut être correct de se conformer et de sentir l’appartenance à un groupe, mais ne te laisse pas influencer lorsqu’il s’agit de tes valeurs. Si tu es mal à l’aise avec ce qui t’est demandé (par exe...\n",
      "\n",
      "  Chunk 2 — Source : Situations sociales pour les adolescents ebook, Page : 122\n",
      "  57 Solitude Tu as l'impression que tes amis t'ont laissé tomber. Ils ne t'appellent plus, ne t'invitent plus chez eux et ne te proposent plus de sortie. Tu te sens seul et tu ne sais pas pourquoi ils ...\n",
      "\n",
      "  Chunk 3 — Source : Etre autiste et ado_ Strategies - Inconnu(e), Page : 202\n",
      "  Et toi, quelles sont tes expériences avec les groupes ? LAISSEZ UN COMMENTAIRE Ricardina : À mon avis, les cliques de neurotypiques au secondaire ne sont pas très accessibles. Avec mes différences, je...\n",
      "\n",
      "  Chunk 4 — Source : Etre autiste et ado_ Strategies - Inconnu(e), Page : 200\n",
      "  écrire à celui qui a lancé l’invitation s’il te manque des informations. C’est pour cela que lors des conversations de groupe, tu dois prêter attention à ces commentaires, car tu pourrais les manquer ...\n",
      "\n",
      "  Chunk 5 — Source : Situations sociales pour les adolescents ebook, Page : 123\n",
      "  Solitude 57 Contacte-les : Le plus simple est de communiquer directement avec tes amis et de leur demander pourquoi ils semblent t'éviter. Il peut y avoir une explication simple ou quelque chose que t...\n",
      "\n",
      "🧠 Réponse générée :\n",
      "Si tu te sens exclu dans un groupe, il est important de te rappeler que tes sentiments sont valides. Voici quelques pistes pour t'aider à gérer cette situation :\n",
      "\n",
      "1. **Communique ouvertement :** Parle directement aux membres du groupe pour exprimer ce que tu ressens. Ils ne se rendent peut-être pas compte de ton malaise et pourraient être ouverts à en discuter.\n",
      "\n",
      "2. **Observe et comprends :** Essaie de comprendre la dynamique du groupe. Y a-t-il des comportements ou habitudes auxquels tu pourrais t'adapter, si cela te convient et respecte tes valeurs ?\n",
      "\n",
      "3. **Explore de nouvelles relations :** Parfois, chercher d'autres personnes avec qui tu partages des intérêts communs peut t'apporter de nouvelles amitiés enrichissantes.\n",
      "\n",
      "4. **Développe tes intérêts :** Investir du temps dans des activités que tu aimes peut te rendre plus confiant et ouvert à de nouvelles rencontres.\n",
      "\n",
      "5. **Parle à un adulte de confiance :** Si la situation te pèse, n'hésite pas à en discuter avec un adulte de confiance ou un professionnel qui pourra te donner des conseils adaptés.\n",
      "\n",
      "N'oublie pas que tu as de la valeur et que tu mérites de te sentir bien dans tes relations.\n",
      "\n",
      "================================================================================\n",
      "\n",
      "\n",
      "🟦 Question 3 : Pourquoi certaines personnes parlent très vite ?\n",
      "\n",
      "🔎 Chunks sélectionnés :\n",
      "  Chunk 1 — Source : 683956044-Le-Syndrome-dAsperger-Guide-Complet, Page : 152\n",
      "  Si le locuteur natif de la langue parle trop vite, l’autre ne pourra comprendre que quelques fragments de ce qui est dit. J’ai appris à ajuster mes interactions avec les gens Asperger pour être dans l...\n",
      "\n",
      "  Chunk 2 — Source : 683956044-Le-Syndrome-dAsperger-Guide-Complet, Page : 258\n",
      "  Je pense qu’il y a aussi une petite peur que si je ne parlais pas beaucoup, je pourrais perdre la voix. Je n’ai pas parlé jusqu’à l’âge de cinq ans, vous savez. (Dewey 1991 p. 204) Une autre raison pe...\n",
      "\n",
      "  Chunk 3 — Source : Etre autiste et ado_ Strategies - Inconnu(e), Page : 12\n",
      "  • Je répète souvent les phrases que j’aime dire ou que je sais bien dire. • Je peux parler des sujets qui m’intéressent pendant des heures sans sentir le besoin d’arrêter. • J’ai envie de dormir dès q...\n",
      "\n",
      "  Chunk 4 — Source : 683956044-Le-Syndrome-dAsperger-Guide-Complet, Page : 257\n",
      "  242 Le guide complet du Syndrome d’Asperger qui tentent de faire en sorte qu’il y ait moins de bruit dans la salle de classe. La voix peut aussi être inhabituellement aiguë ou être nasillarde de maniè...\n",
      "\n",
      "  Chunk 5 — Source : Neurotribus - Steve Silberman, Page : 145\n",
      "  on pose la tête sur un traversin, on a un bruit étrange dans l’oreille. Il faut rester allongé sans bouger pendant longtemps, et c’est agréable.31 » Quelquefois, leurs discours très ampoulés privaient...\n",
      "\n",
      "🧠 Réponse générée :\n",
      "Certaines personnes parlent très vite pour plusieurs raisons. Parfois, c'est parce qu'elles sont excitées ou passionnées par le sujet dont elles parlent. D'autres fois, cela peut être dû à de l'anxiété ou au stress, qui peut les amener à accélérer leur débit pour exprimer rapidement leurs pensées. Certaines personnes peuvent aussi avoir l'habitude de parler vite sans s'en rendre compte, simplement parce que c'est leur manière naturelle de s'exprimer.\n",
      "\n",
      "Il est important de se rappeler que chacun a son propre rythme de parole, et il n'y a pas de bonne ou de mauvaise manière de parler. Si tu trouves que la vitesse de parole de quelqu'un te rend difficile la compréhension, n'hésite pas à lui demander gentiment de ralentir. Et si tu te poses des questions sur ta propre façon de parler, cela peut être utile d'en discuter avec un adulte de confiance ou un professionnel qui pourra t'apporter des conseils adaptés.\n",
      "\n",
      "================================================================================\n",
      "\n",
      "\n",
      "🟦 Question 4 : Est-ce grave si je préfère être seul parfois ?\n",
      "\n",
      "🔎 Chunks sélectionnés :\n",
      "  Chunk 1 — Source : Etre autiste et ado_ Strategies - Inconnu(e), Page : 183\n",
      "  1 LES AMIS Depuis mon enfance, les adultes autour de moi me poussent à faire de la « socialisation ». J’aime socialiser moins souvent et probablement moins longtemps que les personnes non autistes. Je...\n",
      "\n",
      "  Chunk 2 — Source : 683956044-Le-Syndrome-dAsperger-Guide-Complet, Page : 71\n",
      "  56 Le guide complet du Syndrome d’Asperger ou elle le désire, sans que quiconque juge si cette activité est anormale par son intensité ou par son objet. J’expliquerai dans le chapitre 6 comment la sol...\n",
      "\n",
      "  Chunk 3 — Source : Situations sociales pour les adolescents ebook, Page : 122\n",
      "  57 Solitude Tu as l'impression que tes amis t'ont laissé tomber. Ils ne t'appellent plus, ne t'invitent plus chez eux et ne te proposent plus de sortie. Tu te sens seul et tu ne sais pas pourquoi ils ...\n",
      "\n",
      "  Chunk 4 — Source : Comprendre_lautisme_pour_les_nuls, Page : 542\n",
      "  Si vous envisagez d’aller seul à un rendez-vous, assurez-vous d’être à l’aise avec l’autre personne. Si être seul avec la personne en question vous inquiète, vous pouvez essayer de venir avec quelqu’u...\n",
      "\n",
      "  Chunk 5 — Source : Neurotribus - Steve Silberman, Page : 594\n",
      "  Votre comportement répétitif n’ennuie personne quand vous êtes seul. Tous les critères diagnostiques s’estompent dans la solitude. C’est pour cette raison que les adolescents Asperger n’ont pas envie ...\n",
      "\n",
      "🧠 Réponse générée :\n",
      "Ce n'est pas grave du tout de préférer être seul parfois. Chacun a des besoins différents en matière de socialisation, et il est tout à fait normal d'apprécier sa propre compagnie. Pour beaucoup de personnes autistes, la solitude peut être un temps précieux pour se ressourcer, se calmer et se concentrer sur ses intérêts personnels. C'est une façon de prendre soin de soi. \n",
      "\n",
      "Si tu te sens bien en passant du temps seul et que cela te permet de te sentir reposé et heureux, c'est ce qui compte le plus. Toutefois, si ce besoin de solitude commence à te faire sentir isolé ou triste, il peut être utile d'en parler à un adulte de confiance. Ils peuvent t'aider à trouver un équilibre qui te convient. Rappelle-toi que tes préférences sont valides et qu'il est important de respecter ton propre rythme.\n",
      "\n",
      "================================================================================\n",
      "\n"
     ]
    }
   ],
   "source": [
    "# Tester avec plusieurs questions\n",
    "\n",
    "questions = [\n",
    "    \"Comment reconnaître la colère chez quelqu’un ?\",\n",
    "    \"Que faire si je me sens exclu dans un groupe ?\",\n",
    "    \"Pourquoi certaines personnes parlent très vite ?\",\n",
    "    \"Est-ce grave si je préfère être seul parfois ?\"\n",
    "]\n",
    "\n",
    "for i, question in enumerate(questions, 1):\n",
    "    print(f\"\\n🟦 Question {i} : {question}\\n\")\n",
    "\n",
    "    docs = vectorstore.similarity_search(question, k=5)\n",
    "\n",
    "    print(\"🔎 Chunks sélectionnés :\")\n",
    "    for j, doc in enumerate(docs, 1):\n",
    "        print(f\"  Chunk {j} — Source : {doc.metadata.get('source', 'inconnu')}, Page : {doc.metadata.get('page', 'N/A')}\")\n",
    "        print(\"  \" + doc.page_content[:200].replace(\"\\n\", \" \") + \"...\\n\")\n",
    "\n",
    "    context = \"\\n\\n\".join([doc.page_content for doc in docs])\n",
    "    prompt = build_prompt(context, question)\n",
    "    response = llm.invoke(prompt)\n",
    "\n",
    "    print(\"🧠 Réponse générée :\")\n",
    "    print(response.content)\n",
    "    print(\"\\n\" + \"=\"*80 + \"\\n\")\n"
   ]
  }
 ],
 "metadata": {
  "kernelspec": {
   "display_name": "venv",
   "language": "python",
   "name": "python3"
  },
  "language_info": {
   "codemirror_mode": {
    "name": "ipython",
    "version": 3
   },
   "file_extension": ".py",
   "mimetype": "text/x-python",
   "name": "python",
   "nbconvert_exporter": "python",
   "pygments_lexer": "ipython3",
   "version": "3.12.10"
  }
 },
 "nbformat": 4,
 "nbformat_minor": 5
}
