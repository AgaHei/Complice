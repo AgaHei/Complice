{
 "cells": [
  {
   "cell_type": "markdown",
   "id": "9cbecf2e",
   "metadata": {},
   "source": [
    "# 🧠 Création des embeddings avec SentenceTransformers et sauvegarde dans un index FAISS"
   ]
  },
  {
   "cell_type": "code",
   "execution_count": 1,
   "id": "ea1ae53d",
   "metadata": {},
   "outputs": [
    {
     "name": "stderr",
     "output_type": "stream",
     "text": [
      "c:\\Users\\aheij\\Desktop\\Jedha\\Data Full Stack\\Projects for Submission\\06 Final Project bloc 6\\projet-culture-g\\venv\\Lib\\site-packages\\tqdm\\auto.py:21: TqdmWarning: IProgress not found. Please update jupyter and ipywidgets. See https://ipywidgets.readthedocs.io/en/stable/user_install.html\n",
      "  from .autonotebook import tqdm as notebook_tqdm\n"
     ]
    },
    {
     "name": "stdout",
     "output_type": "stream",
     "text": [
      "4988 chunks chargés.\n"
     ]
    },
    {
     "data": {
      "text/html": [
       "<div>\n",
       "<style scoped>\n",
       "    .dataframe tbody tr th:only-of-type {\n",
       "        vertical-align: middle;\n",
       "    }\n",
       "\n",
       "    .dataframe tbody tr th {\n",
       "        vertical-align: top;\n",
       "    }\n",
       "\n",
       "    .dataframe thead th {\n",
       "        text-align: right;\n",
       "    }\n",
       "</style>\n",
       "<table border=\"1\" class=\"dataframe\">\n",
       "  <thead>\n",
       "    <tr style=\"text-align: right;\">\n",
       "      <th></th>\n",
       "      <th>source</th>\n",
       "      <th>page</th>\n",
       "      <th>chunk_id</th>\n",
       "      <th>text</th>\n",
       "      <th>length</th>\n",
       "      <th>theme</th>\n",
       "      <th>niveau</th>\n",
       "      <th>type</th>\n",
       "    </tr>\n",
       "  </thead>\n",
       "  <tbody>\n",
       "    <tr>\n",
       "      <th>0</th>\n",
       "      <td>100 idees pour enseigner les ha - Mehdi Liratni</td>\n",
       "      <td>2</td>\n",
       "      <td>100 idees pour enseigner les ha - Mehdi Liratn...</td>\n",
       "      <td>Dr Mehdi Liratni Préface du Pr René Pry 100 ID...</td>\n",
       "      <td>18</td>\n",
       "      <td>relations sociales</td>\n",
       "      <td>facile</td>\n",
       "      <td>inconnu</td>\n",
       "    </tr>\n",
       "    <tr>\n",
       "      <th>1</th>\n",
       "      <td>100 idees pour enseigner les ha - Mehdi Liratni</td>\n",
       "      <td>3</td>\n",
       "      <td>100 idees pour enseigner les ha - Mehdi Liratn...</td>\n",
       "      <td>La version numérique de cet ouvrage a été réal...</td>\n",
       "      <td>30</td>\n",
       "      <td>autisme</td>\n",
       "      <td>facile</td>\n",
       "      <td>inconnu</td>\n",
       "    </tr>\n",
       "    <tr>\n",
       "      <th>2</th>\n",
       "      <td>100 idees pour enseigner les ha - Mehdi Liratni</td>\n",
       "      <td>4</td>\n",
       "      <td>100 idees pour enseigner les ha - Mehdi Liratn...</td>\n",
       "      <td>SOMMAIRE Préface Remerciements INTRODUCTION HA...</td>\n",
       "      <td>171</td>\n",
       "      <td>relations sociales</td>\n",
       "      <td>complexe</td>\n",
       "      <td>définition</td>\n",
       "    </tr>\n",
       "    <tr>\n",
       "      <th>3</th>\n",
       "      <td>100 idees pour enseigner les ha - Mehdi Liratni</td>\n",
       "      <td>5</td>\n",
       "      <td>100 idees pour enseigner les ha - Mehdi Liratn...</td>\n",
       "      <td>CHAPITRE II COMPÉTENCES SOCLES DU COMPORTEMENT...</td>\n",
       "      <td>212</td>\n",
       "      <td>émotions</td>\n",
       "      <td>complexe</td>\n",
       "      <td>méthode</td>\n",
       "    </tr>\n",
       "    <tr>\n",
       "      <th>4</th>\n",
       "      <td>100 idees pour enseigner les ha - Mehdi Liratni</td>\n",
       "      <td>6</td>\n",
       "      <td>100 idees pour enseigner les ha - Mehdi Liratn...</td>\n",
       "      <td>Idée 26 Les 4 règles et objectifs importants d...</td>\n",
       "      <td>236</td>\n",
       "      <td>relations sociales</td>\n",
       "      <td>complexe</td>\n",
       "      <td>action</td>\n",
       "    </tr>\n",
       "  </tbody>\n",
       "</table>\n",
       "</div>"
      ],
      "text/plain": [
       "                                            source  page  \\\n",
       "0  100 idees pour enseigner les ha - Mehdi Liratni     2   \n",
       "1  100 idees pour enseigner les ha - Mehdi Liratni     3   \n",
       "2  100 idees pour enseigner les ha - Mehdi Liratni     4   \n",
       "3  100 idees pour enseigner les ha - Mehdi Liratni     5   \n",
       "4  100 idees pour enseigner les ha - Mehdi Liratni     6   \n",
       "\n",
       "                                            chunk_id  \\\n",
       "0  100 idees pour enseigner les ha - Mehdi Liratn...   \n",
       "1  100 idees pour enseigner les ha - Mehdi Liratn...   \n",
       "2  100 idees pour enseigner les ha - Mehdi Liratn...   \n",
       "3  100 idees pour enseigner les ha - Mehdi Liratn...   \n",
       "4  100 idees pour enseigner les ha - Mehdi Liratn...   \n",
       "\n",
       "                                                text  length  \\\n",
       "0  Dr Mehdi Liratni Préface du Pr René Pry 100 ID...      18   \n",
       "1  La version numérique de cet ouvrage a été réal...      30   \n",
       "2  SOMMAIRE Préface Remerciements INTRODUCTION HA...     171   \n",
       "3  CHAPITRE II COMPÉTENCES SOCLES DU COMPORTEMENT...     212   \n",
       "4  Idée 26 Les 4 règles et objectifs importants d...     236   \n",
       "\n",
       "                theme    niveau        type  \n",
       "0  relations sociales    facile     inconnu  \n",
       "1             autisme    facile     inconnu  \n",
       "2  relations sociales  complexe  définition  \n",
       "3            émotions  complexe     méthode  \n",
       "4  relations sociales  complexe      action  "
      ]
     },
     "execution_count": 1,
     "metadata": {},
     "output_type": "execute_result"
    }
   ],
   "source": [
    "# Importer les bibliothèques nécessaires\n",
    "from sentence_transformers import SentenceTransformer\n",
    "import pandas as pd\n",
    "import numpy as np\n",
    "from tqdm import tqdm\n",
    "import os\n",
    "\n",
    "# 📁 Chemin vers les chunks enrichis\n",
    "chunks_path = \"../data/ready_for_embedding/chunks_with_metadata.csv\"\n",
    "df = pd.read_csv(chunks_path)\n",
    "\n",
    "print(f\"{len(df)} chunks chargés.\")\n",
    "df.head()\n"
   ]
  },
  {
   "cell_type": "markdown",
   "id": "14e84d4f",
   "metadata": {},
   "source": [
    "# 🧠 Choix du modèle d’embedding\n",
    "\n",
    "    ✅ paraphrase-multilingual-MiniLM-L12-v2\n",
    "\n",
    "Ce modèle paraît adéquat pour un corpus francophone et sensible comme le notre, car il est:\n",
    "    - multilingue (français inclus)\n",
    "    - léger et rapide\n",
    "    - compatible avec sentence-transformers"
   ]
  },
  {
   "cell_type": "code",
   "execution_count": 2,
   "id": "fa553f0f",
   "metadata": {},
   "outputs": [
    {
     "name": "stdout",
     "output_type": "stream",
     "text": [
      "Modèle 'sentence-transformers/paraphrase-multilingual-MiniLM-L12-v2' chargé.\n"
     ]
    }
   ],
   "source": [
    "# Chargement du modèle d’embedding\n",
    "\n",
    "model_name = \"sentence-transformers/paraphrase-multilingual-MiniLM-L12-v2\"\n",
    "model = SentenceTransformer(model_name)\n",
    "print(f\"Modèle '{model_name}' chargé.\")"
   ]
  },
  {
   "cell_type": "code",
   "execution_count": 3,
   "id": "9dddb185",
   "metadata": {},
   "outputs": [
    {
     "name": "stderr",
     "output_type": "stream",
     "text": [
      "Batches: 100%|██████████| 156/156 [01:39<00:00,  1.57it/s]\n"
     ]
    }
   ],
   "source": [
    "# Génération des embeddings\n",
    "\n",
    "texts = df[\"text\"].tolist()\n",
    "embeddings = model.encode(texts, show_progress_bar=True)\n"
   ]
  },
  {
   "cell_type": "code",
   "execution_count": 4,
   "id": "1aef3885",
   "metadata": {},
   "outputs": [
    {
     "name": "stdout",
     "output_type": "stream",
     "text": [
      "✅ Embeddings et métadonnées sauvegardés.\n"
     ]
    }
   ],
   "source": [
    "# --- Sauvegarde des embeddings et métadonnées ---\n",
    "\n",
    "# 📁 Dossier de sortie\n",
    "os.makedirs(\"../data/embeddings\", exist_ok=True)\n",
    "\n",
    "# Sauvegarde des vecteurs\n",
    "np.save(\"../data/embeddings/chunks_embeddings.npy\", embeddings)\n",
    "\n",
    "# Sauvegarde des métadonnées\n",
    "df.to_csv(\"../data/embeddings/chunks_metadata.csv\", index=False)\n",
    "\n",
    "print(\"✅ Embeddings et métadonnées sauvegardés.\")\n"
   ]
  },
  {
   "cell_type": "code",
   "execution_count": 5,
   "id": "7b63e948",
   "metadata": {},
   "outputs": [
    {
     "name": "stdout",
     "output_type": "stream",
     "text": [
      "Dimensions des embeddings : (4988, 384)\n",
      "Exemple de vecteur : [-0.15932588  0.17564173  0.03190022  0.01267263  0.03710037 -0.07132272\n",
      "  0.03162193  0.0588747  -0.00077504  0.14136818]\n"
     ]
    }
   ],
   "source": [
    "# Sanity check\n",
    "print(\"Dimensions des embeddings :\", embeddings.shape)\n",
    "print(\"Exemple de vecteur :\", embeddings[0][:10])\n"
   ]
  }
 ],
 "metadata": {
  "kernelspec": {
   "display_name": "venv",
   "language": "python",
   "name": "python3"
  },
  "language_info": {
   "codemirror_mode": {
    "name": "ipython",
    "version": 3
   },
   "file_extension": ".py",
   "mimetype": "text/x-python",
   "name": "python",
   "nbconvert_exporter": "python",
   "pygments_lexer": "ipython3",
   "version": "3.12.10"
  }
 },
 "nbformat": 4,
 "nbformat_minor": 5
}
